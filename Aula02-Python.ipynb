{
 "cells": [
  {
   "cell_type": "markdown",
   "metadata": {},
   "source": [
    "Palavras reservadas"
   ]
  },
  {
   "cell_type": "code",
   "execution_count": 1,
   "metadata": {},
   "outputs": [
    {
     "name": "stdout",
     "output_type": "stream",
     "text": [
      "['False', 'None', 'True', 'and', 'as', 'assert', 'async', 'await', 'break', 'class', 'continue', 'def', 'del', 'elif', 'else', 'except', 'finally', 'for', 'from', 'global', 'if', 'import', 'in', 'is', 'lambda', 'nonlocal', 'not', 'or', 'pass', 'raise', 'return', 'try', 'while', 'with', 'yield']\n"
     ]
    }
   ],
   "source": [
    "import keyword\n",
    "print(keyword.kwlist)"
   ]
  },
  {
   "cell_type": "markdown",
   "metadata": {},
   "source": [
    "Exercício 02"
   ]
  },
  {
   "cell_type": "code",
   "execution_count": 4,
   "metadata": {},
   "outputs": [
    {
     "name": "stdout",
     "output_type": "stream",
     "text": [
      "O resultada da subtração é -30.\n"
     ]
    }
   ],
   "source": [
    "num1 = 6\n",
    "num2 = 36\n",
    "\n",
    "diferenca = num1 - num2\n",
    "\n",
    "# O comando print apresenta resultados no console\n",
    "print(f'O resultada da subtração é {diferenca}.')"
   ]
  },
  {
   "cell_type": "markdown",
   "metadata": {},
   "source": [
    "Exercício 03\n",
    "Crie um programa para receber dois valores e em seguida, exiba o\n",
    "produto entre eles."
   ]
  },
  {
   "cell_type": "code",
   "execution_count": 5,
   "metadata": {},
   "outputs": [
    {
     "name": "stdout",
     "output_type": "stream",
     "text": [
      "O resultado do produto é 15000.\n"
     ]
    }
   ],
   "source": [
    "num1 = 100\n",
    "num2 = 150\n",
    "produto = num1 * num2\n",
    "\n",
    "print(f'O resultado do produto é {produto}.')\n"
   ]
  },
  {
   "cell_type": "markdown",
   "metadata": {},
   "source": [
    "Exercício 03 com input"
   ]
  },
  {
   "cell_type": "code",
   "execution_count": 5,
   "metadata": {},
   "outputs": [
    {
     "name": "stdout",
     "output_type": "stream",
     "text": [
      "<class 'str'>\n",
      "<class 'str'>\n",
      "<class 'float'>\n",
      "<class 'float'>\n",
      "O resultado é: 50.0\n"
     ]
    }
   ],
   "source": [
    "# Inserindo dados de entrada com o comando INPUT\n",
    "num1 = input('Digite o primeiro valor:')\n",
    "num2 = input('Digite o segundo valor:')\n",
    "\n",
    "# Verificando o tipo de dado\n",
    "print(type(num1))\n",
    "print(type(num2))\n",
    "\n",
    "# Convertendo os valores em DECIMAIS\n",
    "num1 = float(num1)\n",
    "num2 = float(num2)\n",
    "\n",
    "# Verificando o tipo de dado\n",
    "print(type(num1))\n",
    "print(type(num2))\n",
    "\n",
    "produto = num1 * num2\n",
    "\n",
    "print('O resultado é:', produto)\n",
    "\n"
   ]
  },
  {
   "cell_type": "markdown",
   "metadata": {},
   "source": [
    "Exercício 16 \n",
    "Faça um Programa que peça 2 números inteiros e um número real.\n",
    "Calcule e mostre:\n",
    "\n",
    "a) o produto do dobro do primeiro com metade do segundo.\n",
    "b) a soma do triplo do primeiro com o terceiro.\n",
    "c) o terceiro elevado ao cubo."
   ]
  },
  {
   "cell_type": "code",
   "execution_count": 18,
   "metadata": {},
   "outputs": [
    {
     "name": "stdout",
     "output_type": "stream",
     "text": [
      "Alternativa A: 2.0\n",
      "Alternativa B 6.0\n",
      "Alternativa C: 27.0\n"
     ]
    }
   ],
   "source": [
    "# Recebendo valores e convertendo\n",
    "n1 = int(input('Digite o primeiro valor'))\n",
    "n2 = int(input('Digite o segundo valor'))\n",
    "n3 = float(input('Digite o terceiro valor'))\n",
    "\n",
    "#Letra a)\n",
    "questaoA = (n1 * 2) * (n2 / 2)\n",
    "\n",
    "print('Alternativa A:', questaoA)\n",
    "\n",
    "#Letra b)\n",
    "questaoB = n1 * 3 + n3\n",
    "print('Alternativa B', questaoB)\n",
    "\n",
    "#Letra c)\n",
    "questaoC = n3 ** 3\n",
    "print('Alternativa C:', questaoC)\n"
   ]
  },
  {
   "cell_type": "markdown",
   "metadata": {},
   "source": [
    "Exercício 17"
   ]
  },
  {
   "cell_type": "code",
   "execution_count": 21,
   "metadata": {},
   "outputs": [
    {
     "name": "stdout",
     "output_type": "stream",
     "text": [
      "O excesso é: 34\n",
      "A multa é: R$ 136\n"
     ]
    }
   ],
   "source": [
    "regulamento = 50\n",
    "multa = 4\n",
    "peixes = float(input('Digite o pes0 de peixes pego:'))\n",
    "\n",
    "questao17exc = peixes - regulamento\n",
    "questao17mult = (peixes - regulamento) * multa\n",
    "print('O excesso é:' , questao17exc)\n",
    "print('A multa é: R$', questao17mult)\n"
   ]
  },
  {
   "cell_type": "markdown",
   "metadata": {},
   "source": [
    "Exercício 18"
   ]
  },
  {
   "cell_type": "code",
   "execution_count": 43,
   "metadata": {},
   "outputs": [
    {
     "name": "stdout",
     "output_type": "stream",
     "text": [
      "+ Salário Bruto: R$ 3300.0\n",
      "- INSS (11%): R$ 264.0\n",
      "- IR (8%): R$ 363.0\n",
      "- Sindicato (5%): R$ 165.0\n",
      "= Salário Líquido: R$ 2508.0\n"
     ]
    }
   ],
   "source": [
    "GHT = float(input('Quanto você ganha por hora?'))\n",
    "HTM = float(input('Quantas horas trabalhadas por mês?'))\n",
    "\n",
    "#salário bruto\n",
    "salbruto = GHT * HTM\n",
    "\n",
    "\n",
    "# Aliquotas de desconto\n",
    "ir = 0.11\n",
    "inss = 0.08\n",
    "sindicato = 0.05\n",
    "\n",
    "# Cálculo dos descontos\n",
    "descinss = salbruto * inss\n",
    "descir = salbruto * ir\n",
    "descsind = salbruto * sindicato\n",
    "\n",
    "salliquid = salbruto - descinss - descir - descsind\n",
    "\n",
    "#Exibir Resultados\n",
    "print(f'+ Salário Bruto: R$ {salbruto}')\n",
    "print(f'- INSS (11%): R$ {descinss}')\n",
    "print(f'- IR (8%): R$ {descir}')\n",
    "print(f'- Sindicato (5%): R$ {descsind}')\n",
    "print(f'= Salário Líquido: R$ {salliquid}')"
   ]
  },
  {
   "cell_type": "markdown",
   "metadata": {},
   "source": [
    "Exercício 19"
   ]
  },
  {
   "cell_type": "code",
   "execution_count": 61,
   "metadata": {},
   "outputs": [
    {
     "name": "stdout",
     "output_type": "stream",
     "text": [
      "Para pintar uma área de 50.0 metros quadrados.\n",
      "Foram utilizadas 1 latas e o valor gasto foi R$80\n"
     ]
    }
   ],
   "source": [
    "# Importar a biblioteca math para utilizar a função ceil\n",
    "import math\n",
    "\n",
    "Mtinta = float(input('Digite a metragem da área a ser pintada:'))\n",
    "LitrosT = 3\n",
    "Vltinta = 80\n",
    "Tlata = 18\n",
    "\n",
    "#Calculando a quantidade de latas\n",
    "#calclata = round((Mtinta / LitrosT) / Tlata,2)\n",
    "calclata = math.ceil((Mtinta / LitrosT) / Tlata)\n",
    "#Valor gasto\n",
    "valtot = round(Vltinta * calclata,2)\n",
    "print(f'Para pintar uma área de {Mtinta} metros quadrados.')\n",
    "print(f'Foram utilizadas {calclata} latas e o valor gasto foi R${valtot}')\n",
    "\n",
    "## O ideal seria aplicar uma estrutura condicional para verificar se quantidade de latas é menor do que 1"
   ]
  }
 ],
 "metadata": {
  "kernelspec": {
   "display_name": "Python 3",
   "language": "python",
   "name": "python3"
  },
  "language_info": {
   "codemirror_mode": {
    "name": "ipython",
    "version": 3
   },
   "file_extension": ".py",
   "mimetype": "text/x-python",
   "name": "python",
   "nbconvert_exporter": "python",
   "pygments_lexer": "ipython3",
   "version": "3.11.0"
  }
 },
 "nbformat": 4,
 "nbformat_minor": 2
}
