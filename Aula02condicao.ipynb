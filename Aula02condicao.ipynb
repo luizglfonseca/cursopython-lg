{
 "cells": [
  {
   "cell_type": "markdown",
   "metadata": {},
   "source": [
    "Estruturas Condicionais = IF"
   ]
  },
  {
   "cell_type": "code",
   "execution_count": 12,
   "metadata": {},
   "outputs": [
    {
     "name": "stdout",
     "output_type": "stream",
     "text": [
      "Menor de idade\n"
     ]
    }
   ],
   "source": [
    "idade = int(input('Digite sua idade'))\n",
    "maior = 18  \n",
    "if idade >= maior:\n",
    "    print('Maior de idade')\n",
    "else:\n",
    "    print('Menor de idade')    "
   ]
  },
  {
   "cell_type": "markdown",
   "metadata": {},
   "source": [
    "Exercicio 02"
   ]
  },
  {
   "cell_type": "code",
   "execution_count": 23,
   "metadata": {},
   "outputs": [
    {
     "name": "stdout",
     "output_type": "stream",
     "text": [
      "zero\n"
     ]
    }
   ],
   "source": [
    "num = int(input('Digite um número:'))\n",
    "\n",
    "if num > 0:\n",
    "    print('positivo')\n",
    "elif num == 0:\n",
    "    print('zero')\n",
    "else:\n",
    "    print('negativo')   "
   ]
  },
  {
   "cell_type": "markdown",
   "metadata": {},
   "source": [
    "Exercicio 03"
   ]
  },
  {
   "cell_type": "code",
   "execution_count": 7,
   "metadata": {},
   "outputs": [
    {
     "name": "stdout",
     "output_type": "stream",
     "text": [
      "Reprovado\n"
     ]
    }
   ],
   "source": [
    "#Solicitando a inserção das notas\n",
    "nota1 = float(input('Digite a nota da primeira prova:'))\n",
    "nota2 = float(input('Digite a nota da segunda prova:'))\n",
    "\n",
    "#Cálculo da média\n",
    "media = (nota1 + nota2) / 2\n",
    "\n",
    "if media >= 7:\n",
    "    print('Aprovado')\n",
    "else:\n",
    "    print('Reprovado')"
   ]
  },
  {
   "cell_type": "markdown",
   "metadata": {},
   "source": [
    "Exercicio 04"
   ]
  },
  {
   "cell_type": "code",
   "execution_count": 10,
   "metadata": {},
   "outputs": [
    {
     "name": "stdout",
     "output_type": "stream",
     "text": [
      "Idade Válida\n"
     ]
    }
   ],
   "source": [
    "#Solicitando idade válida\n",
    "idade = int(input('Informe sua idade:'))\n",
    "\n",
    "#Operandos lógicos AND, OR NOT\n",
    "if idade >= 18 and idade <= 30:\n",
    "   print('Idade Válida')\n",
    "else:\n",
    "   print('Idade Inválida')    "
   ]
  },
  {
   "cell_type": "markdown",
   "metadata": {},
   "source": [
    "Exercício 05"
   ]
  },
  {
   "cell_type": "code",
   "execution_count": 16,
   "metadata": {},
   "outputs": [
    {
     "name": "stdout",
     "output_type": "stream",
     "text": [
      "Ímpar: 5\n"
     ]
    }
   ],
   "source": [
    "num = int(input('Digite um número'))\n",
    "resto = num % 2\n",
    "\n",
    "if resto == 0:\n",
    "    print('Par:', num)\n",
    "else:\n",
    "    print('Ímpar:', num)"
   ]
  },
  {
   "cell_type": "markdown",
   "metadata": {},
   "source": [
    "Exercicio 06"
   ]
  },
  {
   "cell_type": "code",
   "execution_count": 27,
   "metadata": {},
   "outputs": [
    {
     "name": "stdout",
     "output_type": "stream",
     "text": [
      "Tarde\n"
     ]
    }
   ],
   "source": [
    "hora = int(input('Digite a hora em ponto'))\n",
    "\n",
    "if hora >= 6 and hora <= 12:\n",
    "    print('Manhã')\n",
    "elif hora > 12 and hora < 18:\n",
    "    print('Tarde')\n",
    "elif hora >= 18 and hora <= 23:\n",
    "    print('Noite')\n",
    "else:\n",
    "    print('Madrugada')"
   ]
  },
  {
   "cell_type": "markdown",
   "metadata": {},
   "source": [
    "Exercicio 07"
   ]
  },
  {
   "cell_type": "code",
   "execution_count": 29,
   "metadata": {},
   "outputs": [
    {
     "name": "stdout",
     "output_type": "stream",
     "text": [
      "Peso válido 50.01\n"
     ]
    }
   ],
   "source": [
    "peso = float(input('Digite um peso válido:'))\n",
    "\n",
    "if peso >= 50 and peso <= 100:\n",
    "    print('Peso válido', peso)\n",
    "else:\n",
    "    print('Peso inválido', peso)"
   ]
  },
  {
   "cell_type": "markdown",
   "metadata": {},
   "source": [
    "Exercício 08"
   ]
  },
  {
   "cell_type": "code",
   "execution_count": 6,
   "metadata": {},
   "outputs": [
    {
     "name": "stdout",
     "output_type": "stream",
     "text": [
      "Não é múltiplo de 3 nem 5: 1234\n"
     ]
    }
   ],
   "source": [
    "num = int(input('Digite um número'))\n",
    "div3 = num % 3\n",
    "div5 = num % 5\n",
    "\n",
    "if div3 == 0 and div5 == 0:\n",
    "    print('Múltiplo de 3 e 5:', num)\n",
    "\n",
    "if div3 == 0 and div5 != 0:\n",
    "    print('Múltiplo de 3 mas não de 5:', num)\n",
    "\n",
    "if div5 == 0 and div3 != 0:\n",
    "    print('Múltiplo de 5 mas não de 3:', num)\n",
    "\n",
    "if div3 != 0 and div5 != 0:\n",
    "    print('Não é múltiplo de 3 nem 5:', num)\n"
   ]
  },
  {
   "cell_type": "markdown",
   "metadata": {},
   "source": [
    "Exercício 08 simplificado"
   ]
  },
  {
   "cell_type": "code",
   "execution_count": null,
   "metadata": {},
   "outputs": [],
   "source": [
    "num = int(input('Digite um número:'))\n",
    "\n",
    "if (num % 3 == 0) and (num % 5 == 0):\n",
    "    print(f'O número {num} é um múltiplo de 3 e 5.')\n",
    "else:\n",
    "    print('Esse número não é múltiplo de 3 e 5')"
   ]
  },
  {
   "cell_type": "markdown",
   "metadata": {},
   "source": [
    "Exercicio 09"
   ]
  },
  {
   "cell_type": "code",
   "execution_count": 27,
   "metadata": {},
   "outputs": [
    {
     "name": "stdout",
     "output_type": "stream",
     "text": [
      "O ano 2028 é Bissexto\n"
     ]
    }
   ],
   "source": [
    "ano = int(input('Digite o ano'))\n",
    "div4 = ano % 4\n",
    "div100 = ano % 100\n",
    "\n",
    "if (div4 == 0 and div100 != 0) or ano % 400 == 0:\n",
    "    print(f'O ano {ano} é Bissexto')\n",
    "else:\n",
    "    print(f'O ano {ano} não é bissexto')"
   ]
  },
  {
   "cell_type": "markdown",
   "metadata": {},
   "source": [
    "Exercício 15"
   ]
  },
  {
   "cell_type": "code",
   "execution_count": 32,
   "metadata": {},
   "outputs": [
    {
     "name": "stdout",
     "output_type": "stream",
     "text": [
      "Aprovado com distinção\n"
     ]
    }
   ],
   "source": [
    "nota1 = float(input('Digite a primeira nota.'))\n",
    "nota2 = float(input('Digite a primeira nota.'))\n",
    "\n",
    "media = (nota1 + nota2) / 2 \n",
    "\n",
    "if media >= 7 and media < 10:\n",
    "    print('Aprovado')\n",
    "elif media < 7:\n",
    "    print('Reprovado') \n",
    "elif media == 10:\n",
    "    print('Aprovado com distinção')\n"
   ]
  },
  {
   "cell_type": "markdown",
   "metadata": {},
   "source": [
    "Exercício 16 e 17"
   ]
  },
  {
   "cell_type": "code",
   "execution_count": 59,
   "metadata": {},
   "outputs": [
    {
     "name": "stdout",
     "output_type": "stream",
     "text": [
      "O maior número é 5 e o menor é 3\n"
     ]
    }
   ],
   "source": [
    "n1 = int(input('Digite o primeiro número '))\n",
    "n2 = int(input('Digite o segundo número '))\n",
    "n3 = int(input('Digite o terceiro número '))\n",
    "\n",
    "if (n1 > n2 and n1 > n3) and (n1 > n2 and n2 > n3):\n",
    "    print(f'O maior número é {n1} e o menor é {n3}')\n",
    "elif (n2 > n1 and n2 > n3) and (n2 > n1 and n3 > n1):\n",
    "      print(f'O maior número é {n2} e o menor é {n1}')\n",
    "elif (n3 > n1 and n3 > n2) and (n3 > n2 and n1 > n2):\n",
    "     print(f'O maior número é {n3} e o menor é {n2}')\n",
    "else:\n",
    "     print(\"Os valores são iguais\")"
   ]
  },
  {
   "cell_type": "markdown",
   "metadata": {},
   "source": [
    "Exercicio 17"
   ]
  },
  {
   "cell_type": "code",
   "execution_count": null,
   "metadata": {},
   "outputs": [],
   "source": [
    "n1 = int(input('Digite o primeiro número '))\n",
    "n2 = int(input('Digite o segundo número '))\n",
    "n3 = int(input('Digite o terceiro número '))\n",
    "\n",
    "\n"
   ]
  }
 ],
 "metadata": {
  "kernelspec": {
   "display_name": "Python 3",
   "language": "python",
   "name": "python3"
  },
  "language_info": {
   "codemirror_mode": {
    "name": "ipython",
    "version": 3
   },
   "file_extension": ".py",
   "mimetype": "text/x-python",
   "name": "python",
   "nbconvert_exporter": "python",
   "pygments_lexer": "ipython3",
   "version": "3.11.0"
  }
 },
 "nbformat": 4,
 "nbformat_minor": 2
}
